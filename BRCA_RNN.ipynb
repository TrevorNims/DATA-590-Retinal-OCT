{
 "cells": [
  {
   "cell_type": "markdown",
   "metadata": {},
   "source": [
    "# BRCA Multi-Omics (TCGA) - Building an RNN Model"
   ]
  },
  {
   "cell_type": "markdown",
   "metadata": {},
   "source": [
    "In order to practice constructing deep learning models on Omics data, we will put together a recurrent neural network (RNN) model on an example [BRCA dataset](https://www.kaggle.com/samdemharter/brca-multiomics-tcga).\n",
    "\n",
    "The BRCA Multi-Omics dataset (omics dataset) is made publicly available on Kaggle. The dataset is only 21.62MB in size. The dataset contains 705 breast cancer samples (611 patients survived, 94 died; \"vital.status\"). Additionally, the dataset contains four different omics data types with a total of 1936 total features. The omics data types can be broken down into the following four categories:\n",
    "\n",
    "- cn: copy number variations (860 features)\n",
    "- mu: mutations (249 features)\n",
    "- rs: gene expression (604 features)\n",
    "- pp: protein levels (223 features)\n",
    "\n",
    "The dataset contains four different omics data types (1936 features in total).\n",
    "\n",
    "- cn: copy number variations as calculated by gistic taking values -2, -1, 0, 1, 2 (n=860)\n",
    "- mu: somatic mutations taking boolean values (n=249)\n",
    "- rs: gene expression (n=604)\n",
    "- pp: phospho-protein levels (n=223)\n",
    "\n",
    "We will develop a sequential neural network (i.e. a recurrent neural network (RNN)) to predict the outcome of the patient. The pipeline is as follows:\n",
    "\n",
    "1.\tCreate a training dataset of size n x 1937 and a test dataset of size m x 1937.\n",
    "2.\tCreate an output dataset of size 1 x 705 with outputs 0 = Alive, 1 = Dead.\n",
    "3.\tNormalize the inputs in the training set.\n",
    "4.\tTrain an RNN model to predict the outcome of the test set."
   ]
  },
  {
   "cell_type": "code",
   "execution_count": 1,
   "metadata": {},
   "outputs": [
    {
     "name": "stderr",
     "output_type": "stream",
     "text": [
      "Using TensorFlow backend.\n"
     ]
    }
   ],
   "source": [
    "# Import libraries\n",
    "\n",
    "import numpy as np\n",
    "import pandas as pd\n",
    "import matplotlib.pyplot as plt\n",
    "from sklearn.preprocessing import MinMaxScaler\n",
    "from keras.models import Sequential\n",
    "from keras.layers import Dense"
   ]
  },
  {
   "cell_type": "code",
   "execution_count": 2,
   "metadata": {},
   "outputs": [],
   "source": [
    "# Import the data and separate into training and test sets.\n",
    "\n",
    "data = pd.read_csv('data.csv')\n",
    "train = data.sample(frac=0.8, random_state=25)\n",
    "test = data.drop(train.index)\n",
    "train_x = train.iloc[: , :-1]\n",
    "train_y = train.iloc[: , -1]\n",
    "test_x = test.iloc[: , :-1]\n",
    "test_y = test.iloc[: , -1]"
   ]
  },
  {
   "cell_type": "code",
   "execution_count": 3,
   "metadata": {},
   "outputs": [],
   "source": [
    "# Normalize feature set\n",
    "\n",
    "train_x = np.array(train_x)\n",
    "train_y = np.array(train_y)\n",
    "test_x = np.array(test_x)\n",
    "test_y = np.array(test_y)\n",
    "scaler = MinMaxScaler()\n",
    "train_x = scaler.fit_transform(train_x)\n",
    "test_x = scaler.fit_transform(test_x)"
   ]
  },
  {
   "cell_type": "code",
   "execution_count": 4,
   "metadata": {},
   "outputs": [],
   "source": [
    "# Define the keras model\n",
    "\n",
    "model = Sequential()\n",
    "model.add(Dense(12, input_dim=1936, activation='relu'))\n",
    "model.add(Dense(8, activation='relu'))\n",
    "model.add(Dense(1, activation='sigmoid'))"
   ]
  },
  {
   "cell_type": "code",
   "execution_count": 5,
   "metadata": {},
   "outputs": [],
   "source": [
    "# Compile the keras model\n",
    "\n",
    "model.compile(loss='binary_crossentropy', optimizer='adam', metrics=['accuracy'])"
   ]
  },
  {
   "cell_type": "code",
   "execution_count": 6,
   "metadata": {},
   "outputs": [
    {
     "data": {
      "text/plain": [
       "<keras.callbacks.callbacks.History at 0x25301973708>"
      ]
     },
     "execution_count": 6,
     "metadata": {},
     "output_type": "execute_result"
    }
   ],
   "source": [
    "# Fit the keras model on the dataset\n",
    "\n",
    "model.fit(train_x, train_y, epochs=150, batch_size=10, verbose=0)"
   ]
  },
  {
   "cell_type": "code",
   "execution_count": 7,
   "metadata": {},
   "outputs": [
    {
     "name": "stdout",
     "output_type": "stream",
     "text": [
      "564/564 [==============================] - 0s 83us/step\n",
      "Accuracy: 100.00\n"
     ]
    }
   ],
   "source": [
    "# Evaluate the keras model\n",
    "\n",
    "_, accuracy = model.evaluate(train_x, train_y)\n",
    "print('Accuracy: %.2f' % (accuracy*100))"
   ]
  },
  {
   "cell_type": "code",
   "execution_count": 16,
   "metadata": {},
   "outputs": [
    {
     "name": "stdout",
     "output_type": "stream",
     "text": [
      "Accuracy:  0.8368794326241135\n"
     ]
    }
   ],
   "source": [
    "# Make class predictions with the model\n",
    "\n",
    "predictions = (model.predict(test_x) > 0.5).astype(int)\n",
    "\n",
    "test_y = np.reshape(test_y,(141,1))\n",
    "\n",
    "print('Accuracy: ', (predictions == test_y).sum()/float(predictions.size))"
   ]
  }
 ],
 "metadata": {
  "kernelspec": {
   "display_name": "Python 3 (ipykernel)",
   "language": "python",
   "name": "python3"
  },
  "language_info": {
   "codemirror_mode": {
    "name": "ipython",
    "version": 3
   },
   "file_extension": ".py",
   "mimetype": "text/x-python",
   "name": "python",
   "nbconvert_exporter": "python",
   "pygments_lexer": "ipython3",
   "version": "3.7.9"
  }
 },
 "nbformat": 4,
 "nbformat_minor": 4
}
